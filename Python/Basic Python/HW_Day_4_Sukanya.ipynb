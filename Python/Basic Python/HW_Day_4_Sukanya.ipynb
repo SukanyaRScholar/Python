{
  "nbformat": 4,
  "nbformat_minor": 0,
  "metadata": {
    "colab": {
      "name": "HW_Day_4_Sukanya.ipynb",
      "provenance": [],
      "collapsed_sections": []
    },
    "kernelspec": {
      "name": "python3",
      "display_name": "Python 3"
    }
  },
  "cells": [
    {
      "cell_type": "markdown",
      "metadata": {
        "id": "Abp8RQlyqzU-"
      },
      "source": [
        "# Assignment – IV"
      ]
    },
    {
      "cell_type": "markdown",
      "metadata": {
        "id": "pVRfgxr8q1FN"
      },
      "source": [
        "Question 1: Write a Python function to multiply all the numbers in a list."
      ]
    },
    {
      "cell_type": "code",
      "metadata": {
        "colab": {
          "base_uri": "https://localhost:8080/"
        },
        "id": "b8cZNVTdrIbQ",
        "outputId": "d10494a1-7307-4f44-aeb6-c4858cecf687"
      },
      "source": [
        "def multiplication(args):\n",
        "  prod=1\n",
        "  for i in args:\n",
        "    prod*=i\n",
        "  return prod\n",
        "\n",
        "print(multiplication([1,2,3]))\n"
      ],
      "execution_count": null,
      "outputs": [
        {
          "output_type": "stream",
          "text": [
            "6\n"
          ],
          "name": "stdout"
        }
      ]
    },
    {
      "cell_type": "markdown",
      "metadata": {
        "id": "2Ryvk51tq1Pv"
      },
      "source": [
        "Question 2: Write a Python function that accepts a string and calculate the number of upper\n",
        "case letters and lower case letters."
      ]
    },
    {
      "cell_type": "code",
      "metadata": {
        "colab": {
          "base_uri": "https://localhost:8080/"
        },
        "id": "4Z6qQzkGrJB9",
        "outputId": "e3210141-11a0-44ba-e259-5394f93de586"
      },
      "source": [
        "def upper_lower_string(astring):\n",
        "  uppercount=0\n",
        "  lowercount=0\n",
        "  for i in astring:\n",
        "    if i.isupper():\n",
        "      uppercount+=1\n",
        "    elif i.islower():\n",
        "      lowercount+=1\n",
        "\n",
        "  print(\"Upper case count= \"+str(uppercount)+ \" & lower case cont= \" +str(lowercount))\n",
        "      \n",
        "upper_lower_string(input(\"Enter the string: \"))"
      ],
      "execution_count": null,
      "outputs": [
        {
          "output_type": "stream",
          "text": [
            "Enter the string: Shivam Singh\n",
            "Upper case count= 2 & lower case cont= 9\n"
          ],
          "name": "stdout"
        }
      ]
    },
    {
      "cell_type": "markdown",
      "metadata": {
        "id": "q_aefLwcq1Y6"
      },
      "source": [
        "Question 3: Create a function palindrome_list () that takes list of strings as an argument,\n",
        "returns the list of strings which are only palindrome."
      ]
    },
    {
      "cell_type": "code",
      "metadata": {
        "colab": {
          "base_uri": "https://localhost:8080/"
        },
        "id": "RB8XF-GyrJvO",
        "outputId": "580666c0-a448-4e31-baf5-637cd5071a73"
      },
      "source": [
        "def palindrome_list(stringlist):\n",
        "  palindromes=[]\n",
        "  for i in stringlist:\n",
        "    if i==i[::-1]:\n",
        "      palindromes.append(i)\n",
        "  print(palindromes)\n",
        "\n",
        "palindrome_list(input(\"Enter the list of strings: \").split(\" \"))"
      ],
      "execution_count": null,
      "outputs": [
        {
          "output_type": "stream",
          "text": [
            "Enter the list of strings: shivam mayam kayak class\n",
            "['mayam', 'kayak']\n"
          ],
          "name": "stdout"
        }
      ]
    },
    {
      "cell_type": "markdown",
      "metadata": {
        "id": "vODwE_DHq1hp"
      },
      "source": [
        "Question 4: Write a function filter_long_words () that takes a list of words and an integer n\n",
        "and returns the list of words that are longer than n."
      ]
    },
    {
      "cell_type": "code",
      "metadata": {
        "colab": {
          "base_uri": "https://localhost:8080/"
        },
        "id": "YLLMtiWzrKxk",
        "outputId": "5c15d88e-fdee-4aab-89f0-002020c6633a"
      },
      "source": [
        "def filter_long_words(wordlist, n):\n",
        "  longwords=[]\n",
        "  for i in wordlist:\n",
        "    if len(i)>n:\n",
        "      longwords.append(i)\n",
        "  return longwords\n",
        "\n",
        "filter_long_words(input(\"Enter the words: \").split(' '), int(input(\"Enter the n value: \")))"
      ],
      "execution_count": null,
      "outputs": [
        {
          "output_type": "stream",
          "text": [
            "Enter the words: add sub mul div factorial divisor calculus statistics\n",
            "Enter the n value: 5\n"
          ],
          "name": "stdout"
        },
        {
          "output_type": "execute_result",
          "data": {
            "text/plain": [
              "['factorial', 'divisor', 'calculus', 'statistics']"
            ]
          },
          "metadata": {
            "tags": []
          },
          "execution_count": 31
        }
      ]
    },
    {
      "cell_type": "markdown",
      "metadata": {
        "id": "NN_GOsSUq1qe"
      },
      "source": [
        "Question 5: Write a Python program using function concept that maps list of words into a list\n",
        "of integers representing the lengths of the corresponding words.\n",
        "Hint: If a list [ab, cde, erty] is passed on to the python function output should come as [2, 3, 4]\n",
        "Here 2, 3 and 4 are the lengths of the words in the list."
      ]
    },
    {
      "cell_type": "code",
      "metadata": {
        "colab": {
          "base_uri": "https://localhost:8080/"
        },
        "id": "uhQs0nf8qwEA",
        "outputId": "8b718f7f-6e06-4bcc-f974-3fd5e71220ff"
      },
      "source": [
        "def list_mapper(lists):\n",
        "  createdlist=[]\n",
        "  for i in lists:\n",
        "    createdlist.append(len(i))\n",
        "  return createdlist\n",
        "\n",
        "print(list_mapper(input(\"Enter the vlaues: \").split(' ')))\n"
      ],
      "execution_count": null,
      "outputs": [
        {
          "output_type": "stream",
          "text": [
            "Enter the vlaues: shivam python class exam success\n",
            "[6, 6, 5, 4, 7]\n"
          ],
          "name": "stdout"
        }
      ]
    }
  ]
}