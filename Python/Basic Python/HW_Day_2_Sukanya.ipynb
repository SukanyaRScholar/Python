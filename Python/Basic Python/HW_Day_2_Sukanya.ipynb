{
  "nbformat": 4,
  "nbformat_minor": 0,
  "metadata": {
    "colab": {
      "name": "HW_Day_2_Sukanya.ipynb",
      "provenance": [],
      "collapsed_sections": []
    },
    "kernelspec": {
      "name": "python3",
      "display_name": "Python 3"
    }
  },
  "cells": [
    {
      "cell_type": "markdown",
      "metadata": {
        "id": "PQ24ZAizzoDn"
      },
      "source": [
        "# Assignment – II"
      ]
    },
    {
      "cell_type": "markdown",
      "metadata": {
        "id": "I_sIogeZzyFy"
      },
      "source": [
        "Question 1: Write a program that accepts a comma separated sequence of words as input and\n",
        "prints the words in a comma-separated sequence after sorting them alphabetically.\n",
        "Input: hello, essential, world, python\n",
        "Output: essential, hello, python, world"
      ]
    },
    {
      "cell_type": "code",
      "metadata": {
        "colab": {
          "base_uri": "https://localhost:8080/"
        },
        "id": "pQeqdWPozkOI",
        "outputId": "61b5f855-7972-4aae-d7f8-7626f159a641"
      },
      "source": [
        "user_input=input(\"Enter the values seperated by coma: \")\n",
        "coma_seperated=[x.strip() for x in user_input.split(\",\")]\n",
        "coma_seperated.sort()\n",
        "print(*coma_seperated, sep=\", \")"
      ],
      "execution_count": null,
      "outputs": [
        {
          "output_type": "stream",
          "text": [
            "Enter the values seperated by coma: hello, essential, world, python \n",
            "essential, hello, python, world\n"
          ],
          "name": "stdout"
        }
      ]
    },
    {
      "cell_type": "markdown",
      "metadata": {
        "id": "B2HcC_y-z2xF"
      },
      "source": [
        "Question 2: See the following list:\n",
        "list1 = [\"abc\", [2, 3, (\"shivam”, “the trainer\")], 1, 2, 3]\n",
        "Get the string \"trainer\"."
      ]
    },
    {
      "cell_type": "code",
      "metadata": {
        "colab": {
          "base_uri": "https://localhost:8080/",
          "height": 36
        },
        "id": "3QGGewMx0Gvn",
        "outputId": "4cd3c22a-b025-44a3-c089-83b7da443d9e"
      },
      "source": [
        "list1=[\"abc\", [2, 3, (\"shivam”, “the trainer\")], 1, 2, 3] \n",
        "list1[1][2][-7:]"
      ],
      "execution_count": null,
      "outputs": [
        {
          "output_type": "execute_result",
          "data": {
            "application/vnd.google.colaboratory.intrinsic+json": {
              "type": "string"
            },
            "text/plain": [
              "'trainer'"
            ]
          },
          "metadata": {
            "tags": []
          },
          "execution_count": 37
        }
      ]
    },
    {
      "cell_type": "markdown",
      "metadata": {
        "id": "nNYyDDDdz5fN"
      },
      "source": [
        "Question 3: Write a Python program to find the repeated items of a tuple."
      ]
    },
    {
      "cell_type": "code",
      "metadata": {
        "colab": {
          "base_uri": "https://localhost:8080/"
        },
        "id": "IblgGssF0Hg0",
        "outputId": "ab534da7-9a62-4409-956b-d3166cd11aeb"
      },
      "source": [
        "tuple1=('Shivam', 'Sasi', 'Stacy', 'Shivam', 'Sarangi', 'Sophie', 'Sasi')\n",
        "print(set(tuple1)) # for unique values and to aoivd repetition\n",
        "repeated=[]\n",
        "\n",
        "# To find only the values that are repeated\n",
        "for i in tuple1:\n",
        "    if tuple1.count(i)>1 and i not in repeated:\n",
        "        repeated.append(i)\n",
        "print(\"Repeated elements are :\", repeated)"
      ],
      "execution_count": null,
      "outputs": [
        {
          "output_type": "stream",
          "text": [
            "{'Sarangi', 'Sasi', 'Shivam', 'Sophie', 'Stacy'}\n",
            "Repeated elements are : ['Shivam', 'Sasi']\n"
          ],
          "name": "stdout"
        }
      ]
    },
    {
      "cell_type": "markdown",
      "metadata": {
        "id": "loh37yq_z79I"
      },
      "source": [
        "Question 4: Use the list, [1, 2, 4, 5, 1, 1, 4, 1, 56], and find the index of all the 1 elements."
      ]
    },
    {
      "cell_type": "code",
      "metadata": {
        "colab": {
          "base_uri": "https://localhost:8080/"
        },
        "id": "zV0FMt7j0Icv",
        "outputId": "d0bae3bc-0f9d-418e-8d8f-019bd525c1c9"
      },
      "source": [
        "list2=[1, 2, 4, 5, 1, 1, 4, 1, 56]\n",
        "indexes=[]\n",
        "for k, v in enumerate(list2):\n",
        "    if v==1:\n",
        "        indexes.append(k)\n",
        "\n",
        "print(indexes)"
      ],
      "execution_count": null,
      "outputs": [
        {
          "output_type": "stream",
          "text": [
            "[0, 4, 5, 7]\n"
          ],
          "name": "stdout"
        }
      ]
    },
    {
      "cell_type": "markdown",
      "metadata": {
        "id": "wkloaPGQz-l7"
      },
      "source": [
        "Question 5: Write a Python program to compute the similarity between two lists.\n",
        "Sample data: [\"red\", \"orange\", \"green\", \"blue\", \"white\"], [\"black\", \"yellow\", \"green\",\n",
        "\"blue\"]\n",
        "Expected Output:\n",
        " Color1-Color2: ['white', 'orange', 'red']\n",
        " Color2-Color1: [‘black’, ‘yellow’]"
      ]
    },
    {
      "cell_type": "code",
      "metadata": {
        "colab": {
          "base_uri": "https://localhost:8080/"
        },
        "id": "r1gtYI9A0JX3",
        "outputId": "03d24903-9471-4027-e2c9-a2e9b428fa02"
      },
      "source": [
        "color1=[\"red\", \"orange\", \"green\", \"blue\", \"white\"]\n",
        "color2=[\"black\", \"yellow\", \"green\", \"blue\"]\n",
        "\n",
        "\n",
        "ans1=[i for i in color1 if i not in color2]\n",
        "print(\"color1-color2\",ans1)\n",
        "\n",
        "ans2=[j for j in color2 if j not in color1]\n",
        "print(\"color2-color1\", ans2)\n"
      ],
      "execution_count": null,
      "outputs": [
        {
          "output_type": "stream",
          "text": [
            "color1-color2 ['red', 'orange', 'white']\n",
            "color2-color1 ['black', 'yellow']\n"
          ],
          "name": "stdout"
        }
      ]
    }
  ]
}