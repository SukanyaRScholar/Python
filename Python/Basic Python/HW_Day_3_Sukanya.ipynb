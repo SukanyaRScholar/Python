{
  "nbformat": 4,
  "nbformat_minor": 0,
  "metadata": {
    "colab": {
      "name": "HW_Day_3_Sukanya.ipynb",
      "provenance": [],
      "collapsed_sections": []
    },
    "kernelspec": {
      "name": "python3",
      "display_name": "Python 3"
    }
  },
  "cells": [
    {
      "cell_type": "markdown",
      "metadata": {
        "id": "RZ__lrghcPGJ"
      },
      "source": [
        "# Assignment – III"
      ]
    },
    {
      "cell_type": "markdown",
      "metadata": {
        "id": "HHQOv1ajcWdF"
      },
      "source": [
        "Question 1: Write a Python program to find numbers between 100 and 400 (both included)\n",
        "where each digit of a number is an even number. The numbers obtained should be printed in a\n",
        "comma-separated sequence."
      ]
    },
    {
      "cell_type": "code",
      "metadata": {
        "colab": {
          "base_uri": "https://localhost:8080/"
        },
        "id": "Ubqyr2Ptcm0C",
        "outputId": "2e27c264-5b8a-40e2-fab9-ad6847e062de"
      },
      "source": [
        "solution=[]\n",
        "for i in range(100,401):\n",
        "  if i%2==0:\n",
        "    solution.append(i)\n",
        "\n",
        "print(*solution, sep=\", \")"
      ],
      "execution_count": null,
      "outputs": [
        {
          "output_type": "stream",
          "text": [
            "100, 102, 104, 106, 108, 110, 112, 114, 116, 118, 120, 122, 124, 126, 128, 130, 132, 134, 136, 138, 140, 142, 144, 146, 148, 150, 152, 154, 156, 158, 160, 162, 164, 166, 168, 170, 172, 174, 176, 178, 180, 182, 184, 186, 188, 190, 192, 194, 196, 198, 200, 202, 204, 206, 208, 210, 212, 214, 216, 218, 220, 222, 224, 226, 228, 230, 232, 234, 236, 238, 240, 242, 244, 246, 248, 250, 252, 254, 256, 258, 260, 262, 264, 266, 268, 270, 272, 274, 276, 278, 280, 282, 284, 286, 288, 290, 292, 294, 296, 298, 300, 302, 304, 306, 308, 310, 312, 314, 316, 318, 320, 322, 324, 326, 328, 330, 332, 334, 336, 338, 340, 342, 344, 346, 348, 350, 352, 354, 356, 358, 360, 362, 364, 366, 368, 370, 372, 374, 376, 378, 380, 382, 384, 386, 388, 390, 392, 394, 396, 398, 400\n"
          ],
          "name": "stdout"
        }
      ]
    },
    {
      "cell_type": "markdown",
      "metadata": {
        "id": "Sa5lYJwfcY78"
      },
      "source": [
        "Question 2: Write a Python program to create the multiplication table (from 1 to 10) of a\n",
        "number."
      ]
    },
    {
      "cell_type": "code",
      "metadata": {
        "colab": {
          "base_uri": "https://localhost:8080/"
        },
        "id": "AjZ8_9R1cnut",
        "outputId": "799b5fb8-b964-4f93-c727-a1687772c7b1"
      },
      "source": [
        "user_input=int(input(\"Enter the value for multiplication table: \"))\n",
        "for i in range(1, 11):\n",
        "    print(str(i) + \"x \" + str(user_input) + \" = \" + str(i*user_input))\n",
        "    "
      ],
      "execution_count": null,
      "outputs": [
        {
          "output_type": "stream",
          "text": [
            "Enter the value for multiplication table: 12\n",
            "1x 12 = 12\n",
            "2x 12 = 24\n",
            "3x 12 = 36\n",
            "4x 12 = 48\n",
            "5x 12 = 60\n",
            "6x 12 = 72\n",
            "7x 12 = 84\n",
            "8x 12 = 96\n",
            "9x 12 = 108\n",
            "10x 12 = 120\n"
          ],
          "name": "stdout"
        }
      ]
    },
    {
      "cell_type": "markdown",
      "metadata": {
        "id": "FHdTES8TcbRz"
      },
      "source": [
        "Question 3: Write a Program to square each odd number in a list. The list is input by a\n",
        "sequence of comma-separated numbers."
      ]
    },
    {
      "cell_type": "code",
      "metadata": {
        "colab": {
          "base_uri": "https://localhost:8080/"
        },
        "id": "5kF2mcJfcoW0",
        "outputId": "18b5f760-8849-4e88-aded-4410302d0d82"
      },
      "source": [
        "usr_input=input(\"Enter the values of list: \")\n",
        "list1=usr_input.split(',')\n",
        "# print(list1)\n",
        "print(\"To include both squared and non-squared numbers in the list\")\n",
        "sqr=[int(i)**2 if int(i)%2!=0 else i for i in list1]\n",
        "#To print all the values and quaring only odd numbers\n",
        "print(*sqr, sep=', ')\n",
        "\n",
        "\n",
        "print(\"To print only the square of the odd numbers\")\n",
        "odd_squares=[int(i)**2 for i in list1 if int(i)%2!=0 ]\n",
        "print(odd_squares)\n",
        "  "
      ],
      "execution_count": null,
      "outputs": [
        {
          "output_type": "stream",
          "text": [
            "Enter the values of list: 2,3,4,5\n",
            "To include both squared and non-squared numbers in the list\n",
            "2, 9, 4, 25\n",
            "To print only the square of the odd numbers\n",
            "[9, 25]\n"
          ],
          "name": "stdout"
        }
      ]
    },
    {
      "cell_type": "markdown",
      "metadata": {
        "id": "VKUgI-OQcehm"
      },
      "source": [
        "Question 4: Write a Python program to match key values in two dictionaries.\n",
        "\n",
        " Sample dictionary: {'key1': 1, 'key2': 3, 'key3': 2}, {'key1': 1, 'key2': 2}\n",
        " Expected output: key1: 1 is present in both x and y"
      ]
    },
    {
      "cell_type": "code",
      "metadata": {
        "colab": {
          "base_uri": "https://localhost:8080/"
        },
        "id": "uv1eQuWTcpDm",
        "outputId": "9f1dde6e-8117-4e24-8deb-4f85fa76e670"
      },
      "source": [
        "dict1={'key1': 1, 'key2': 3, 'key3': 2}\n",
        "dict2={'key1': 1, 'key2': 2}\n",
        "\n",
        "for k, v in dict1.items():\n",
        "  for k1, v1 in dict2.items():\n",
        "    if k==k1 and v==v1:\n",
        "      print(str(k) + \":\" +str(v) + \" is present in both x and y\")"
      ],
      "execution_count": null,
      "outputs": [
        {
          "output_type": "stream",
          "text": [
            "key1:1 is present in both x and y\n"
          ],
          "name": "stdout"
        }
      ]
    },
    {
      "cell_type": "markdown",
      "metadata": {
        "id": "tm-l3C1Pchpz"
      },
      "source": [
        "Question 5: Write a program that computes the net amount of a bank account based a\n",
        "transaction log from console input. The transaction log format is shown as following:\n",
        "D 100 W 200\n",
        "D means deposit while W means withdrawal.\n",
        "Suppose the following input is supplied to the program:\n",
        "D 300\n",
        "D 300\n",
        "W 200\n",
        "D 100\n",
        "Then, the output should be: 500"
      ]
    },
    {
      "cell_type": "code",
      "metadata": {
        "colab": {
          "base_uri": "https://localhost:8080/"
        },
        "id": "ArAuJRcEcL3F",
        "outputId": "f1d11be9-4ddb-48ef-809a-73472e685f2f"
      },
      "source": [
        "account=500\n",
        "ui=input(\"Enter the log: \")\n",
        "ui=ui.strip(' ')\n",
        "ui=ui.split(' ')\n",
        "acc=0\n",
        "# print(ui)\n",
        "\n",
        "for i, val in enumerate(ui):\n",
        "  if val=='D':\n",
        "    acc+=int(ui[i+1])\n",
        "  elif val=='W':\n",
        "    acc-=int(ui[i+1])\n",
        "\n",
        "print(acc)\n",
        "  "
      ],
      "execution_count": null,
      "outputs": [
        {
          "output_type": "stream",
          "text": [
            "Enter the log: D 300 D 300 W 200 D 100\n",
            "500\n"
          ],
          "name": "stdout"
        }
      ]
    }
  ]
}